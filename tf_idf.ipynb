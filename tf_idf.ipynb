{
  "nbformat": 4,
  "nbformat_minor": 0,
  "metadata": {
    "colab": {
      "provenance": [],
      "authorship_tag": "ABX9TyMDkSYveZPVknhEchwev20w",
      "include_colab_link": true
    },
    "kernelspec": {
      "name": "python3",
      "display_name": "Python 3"
    },
    "language_info": {
      "name": "python"
    }
  },
  "cells": [
    {
      "cell_type": "markdown",
      "metadata": {
        "id": "view-in-github",
        "colab_type": "text"
      },
      "source": [
        "<a href=\"https://colab.research.google.com/github/KKawaguchi1219/tf-idf_test/blob/main/tf_idf.ipynb\" target=\"_parent\"><img src=\"https://colab.research.google.com/assets/colab-badge.svg\" alt=\"Open In Colab\"/></a>"
      ]
    },
    {
      "cell_type": "markdown",
      "source": [
        "**pip install and test**"
      ],
      "metadata": {
        "id": "3j7fAOf9F592"
      }
    },
    {
      "cell_type": "code",
      "source": [
        "!pip install mecab-python3"
      ],
      "metadata": {
        "colab": {
          "base_uri": "https://localhost:8080/"
        },
        "id": "V8zVvcv_vWJy",
        "outputId": "81143986-d466-40d3-dee4-08b533706d03"
      },
      "execution_count": 1,
      "outputs": [
        {
          "output_type": "stream",
          "name": "stdout",
          "text": [
            "Collecting mecab-python3\n",
            "  Downloading mecab_python3-1.0.7-cp310-cp310-manylinux_2_17_x86_64.manylinux2014_x86_64.whl (581 kB)\n",
            "\u001b[2K     \u001b[90m━━━━━━━━━━━━━━━━━━━━━━━━━━━━━━━━━━━━━━━\u001b[0m \u001b[32m581.7/581.7 kB\u001b[0m \u001b[31m6.4 MB/s\u001b[0m eta \u001b[36m0:00:00\u001b[0m\n",
            "\u001b[?25hInstalling collected packages: mecab-python3\n",
            "Successfully installed mecab-python3-1.0.7\n"
          ]
        }
      ]
    },
    {
      "cell_type": "code",
      "source": [
        "!pip install unidic-lite"
      ],
      "metadata": {
        "colab": {
          "base_uri": "https://localhost:8080/"
        },
        "id": "KAsAPeuuwST3",
        "outputId": "a4eaf853-5368-4a16-d2d7-16c497b98e78"
      },
      "execution_count": 2,
      "outputs": [
        {
          "output_type": "stream",
          "name": "stdout",
          "text": [
            "Collecting unidic-lite\n",
            "  Downloading unidic-lite-1.0.8.tar.gz (47.4 MB)\n",
            "\u001b[2K     \u001b[90m━━━━━━━━━━━━━━━━━━━━━━━━━━━━━━━━━━━━━━━━\u001b[0m \u001b[32m47.4/47.4 MB\u001b[0m \u001b[31m16.3 MB/s\u001b[0m eta \u001b[36m0:00:00\u001b[0m\n",
            "\u001b[?25h  Preparing metadata (setup.py) ... \u001b[?25l\u001b[?25hdone\n",
            "Building wheels for collected packages: unidic-lite\n",
            "  Building wheel for unidic-lite (setup.py) ... \u001b[?25l\u001b[?25hdone\n",
            "  Created wheel for unidic-lite: filename=unidic_lite-1.0.8-py3-none-any.whl size=47658816 sha256=8b95748befe61b1ff439be3f13cd59e24b57fece943e85a22b5e3143a7fd9911\n",
            "  Stored in directory: /root/.cache/pip/wheels/89/e8/68/f9ac36b8cc6c8b3c96888cd57434abed96595d444f42243853\n",
            "Successfully built unidic-lite\n",
            "Installing collected packages: unidic-lite\n",
            "Successfully installed unidic-lite-1.0.8\n"
          ]
        }
      ]
    },
    {
      "cell_type": "code",
      "source": [
        "import MeCab\n",
        "\n",
        "text='餃子は餃子が大好きです!'\n",
        "wakati = MeCab.Tagger(\"-Owakati\")\n",
        "words=wakati.parse(text).split()"
      ],
      "metadata": {
        "id": "xriRMAcOwmke"
      },
      "execution_count": 15,
      "outputs": []
    },
    {
      "cell_type": "code",
      "source": [
        "print(words)\n",
        "print(words.count('餃子'))"
      ],
      "metadata": {
        "colab": {
          "base_uri": "https://localhost:8080/"
        },
        "id": "KEgzunZxyju2",
        "outputId": "a2be52f3-0fb5-429b-de56-e6eb961e4543"
      },
      "execution_count": 44,
      "outputs": [
        {
          "output_type": "stream",
          "name": "stdout",
          "text": [
            "['餃子', 'は', '餃子', 'が', '大好き', 'です', '!']\n",
            "2\n"
          ]
        }
      ]
    },
    {
      "cell_type": "code",
      "source": [
        "tagger = MeCab.Tagger()\n",
        "print(tagger.parse(text))"
      ],
      "metadata": {
        "colab": {
          "base_uri": "https://localhost:8080/"
        },
        "id": "fb5YoZ40wqow",
        "outputId": "463fd3ce-76e2-457c-8476-9b0494b808b0"
      },
      "execution_count": 7,
      "outputs": [
        {
          "output_type": "stream",
          "name": "stdout",
          "text": [
            "餃子\tギョーザ\tギョーザ\tギョーザ\t名詞-普通名詞-一般\t\t\t0\n",
            "が\tガ\tガ\tが\t助詞-格助詞\t\t\t\n",
            "大好き\tダイスキ\tダイスキ\t大好き\t形状詞-一般\t\t\t1\n",
            "です\tデス\tデス\tです\t助動詞\t助動詞-デス\t終止形-一般\t\n",
            "!\t\t\t！\t補助記号-句点\t\t\t\n",
            "EOS\n",
            "\n"
          ]
        }
      ]
    },
    {
      "cell_type": "code",
      "source": [
        "import re\n",
        "\n",
        "doc='I waana love you!'\n",
        "hoge=[]\n",
        "print(doc)\n",
        "doc=re.sub('[.|?|!]', '', doc.lower())\n",
        "doc=wakati.parse(doc).split()\n",
        "hoge += doc\n",
        "print(hoge)"
      ],
      "metadata": {
        "colab": {
          "base_uri": "https://localhost:8080/"
        },
        "id": "2FL9ZNr-_SBk",
        "outputId": "e2f5dbbd-3d43-4694-f70c-6e85b73a7fd9"
      },
      "execution_count": 43,
      "outputs": [
        {
          "output_type": "stream",
          "name": "stdout",
          "text": [
            "I waana love you!\n",
            "['i', 'waana', 'love', 'you']\n"
          ]
        }
      ]
    },
    {
      "cell_type": "markdown",
      "source": [
        "**TF**"
      ],
      "metadata": {
        "id": "mIiIwUvXvE06"
      }
    },
    {
      "cell_type": "code",
      "source": [
        "import MeCab\n",
        "from collections import defaultdict\n",
        "\n",
        "def tf_test(document):\n",
        "    wakati = MeCab.Tagger(\"-Owakati\")\n",
        "    words=wakati.parse(document).split()\n",
        "    words_freq=defaultdict(int)\n",
        "    words_tf=defaultdict(int)\n",
        "    for word in words:\n",
        "        words_freq[word]+=1\n",
        "        words_tf[word]=words_freq[word]/len(words)\n",
        "    return len(words), words_tf"
      ],
      "metadata": {
        "id": "kIlGsE9fxzPQ"
      },
      "execution_count": 23,
      "outputs": []
    },
    {
      "cell_type": "code",
      "execution_count": 24,
      "metadata": {
        "colab": {
          "base_uri": "https://localhost:8080/"
        },
        "id": "x2TWHz6hvAgP",
        "outputId": "d8c736af-9806-46d1-dd8a-dd6925338cb2"
      },
      "outputs": [
        {
          "output_type": "stream",
          "name": "stdout",
          "text": [
            "単語数:11\n",
            "defaultdict(<class 'int'>, {'餃子': 0.18181818181818182, 'は': 0.09090909090909091, 'が': 0.09090909090909091, '好き': 0.09090909090909091, 'か': 0.09090909090909091, 'も': 0.09090909090909091, 'しれ': 0.09090909090909091, 'ませ': 0.09090909090909091, 'ん': 0.09090909090909091, '。': 0.09090909090909091})\n"
          ]
        }
      ],
      "source": [
        "import MeCab\n",
        "\n",
        "document='餃子は餃子が好きかもしれません。'\n",
        "num, test_tf=tf_test(document=document)\n",
        "print(f'単語数:{num}')\n",
        "print(test_tf)"
      ]
    },
    {
      "cell_type": "markdown",
      "source": [
        "**IDF**"
      ],
      "metadata": {
        "id": "NtxP-fN54v09"
      }
    },
    {
      "cell_type": "code",
      "source": [
        "import MeCab\n",
        "import re\n",
        "from collections import defaultdict\n",
        "import numpy as np\n",
        "\n",
        "def idf_test(documents):\n",
        "    n=len(documents)\n",
        "\n",
        "    documents = [re.sub('[、|。|!|?]', '', doc.lower()) for doc in documents]\n",
        "\n",
        "    words_num=[]\n",
        "    words_idf=defaultdict(int)\n",
        "\n",
        "    for doc in documents:\n",
        "        wakati = MeCab.Tagger(\"-Owakati\")\n",
        "        # 分かち書きした文章を集合型に直し、リストに格納する。\n",
        "        # リストに格納される単語tに1文書中の重複はないため、リスト中の単語tの重複の数は単語tが出現する文書数dfと等価になるﾊｽﾞである。\n",
        "        words=set(wakati.parse(doc).split())\n",
        "        words_num += words\n",
        "\n",
        "    for word in words_num:\n",
        "        if word in words_idf.keys():\n",
        "            continue\n",
        "        df=words_num.count(word)\n",
        "        # 各単語のidfを計算\n",
        "        words_idf[word]=np.log(n/df)\n",
        "\n",
        "    return words_idf"
      ],
      "metadata": {
        "id": "MbsCzI-D5ltE"
      },
      "execution_count": 50,
      "outputs": []
    },
    {
      "cell_type": "code",
      "source": [
        "documents=[\n",
        "    '餃子は好きです。',\n",
        "    'あまり餃子が好きではありません。',\n",
        "    '小籠包の方が好きです。',\n",
        "    '私は私の彼女の作った餃子がいちばん好きです。'\n",
        "]\n",
        "\n",
        "idf=idf_test(documents)\n",
        "idf"
      ],
      "metadata": {
        "colab": {
          "base_uri": "https://localhost:8080/"
        },
        "id": "RIXD9LWN4o-8",
        "outputId": "3045455e-c8b8-47f6-9c88-3469f246bc50"
      },
      "execution_count": 51,
      "outputs": [
        {
          "output_type": "execute_result",
          "data": {
            "text/plain": [
              "defaultdict(int,\n",
              "            {'餃子': 0.28768207245178085,\n",
              "             'です': 0.28768207245178085,\n",
              "             '好き': 0.0,\n",
              "             'は': 0.28768207245178085,\n",
              "             'あまり': 1.3862943611198906,\n",
              "             'あり': 1.3862943611198906,\n",
              "             'で': 1.3862943611198906,\n",
              "             'ん': 1.3862943611198906,\n",
              "             'が': 0.28768207245178085,\n",
              "             'ませ': 1.3862943611198906,\n",
              "             '方': 1.3862943611198906,\n",
              "             'の': 0.6931471805599453,\n",
              "             '包': 1.3862943611198906,\n",
              "             '小籠': 1.3862943611198906,\n",
              "             '彼女': 1.3862943611198906,\n",
              "             '作っ': 1.3862943611198906,\n",
              "             'いちばん': 1.3862943611198906,\n",
              "             '私': 1.3862943611198906,\n",
              "             'た': 1.3862943611198906})"
            ]
          },
          "metadata": {},
          "execution_count": 51
        }
      ]
    },
    {
      "cell_type": "code",
      "source": [],
      "metadata": {
        "id": "fEafitedHWGT"
      },
      "execution_count": null,
      "outputs": []
    }
  ]
}